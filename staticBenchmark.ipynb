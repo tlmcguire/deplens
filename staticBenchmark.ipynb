{
 "cells": [
  {
   "cell_type": "code",
   "execution_count": 1,
   "id": "8f47f6af",
   "metadata": {},
   "outputs": [],
   "source": [
    "\"\"\"\n",
    "Static Security Bechmark\n",
    "This script is designed to measure the ability of static analysis tools to identify safe and unsafe code.\n",
    "\"\"\"\n",
    "\n",
    "import json\n",
    "import os\n",
    "import sys\n",
    "import re\n",
    "import time\n",
    "import subprocess\n",
    "import pandas as pd\n",
    "from pathlib import Path\n",
    "from llmScan import *"
   ]
  },
  {
   "cell_type": "code",
   "execution_count": null,
   "id": "8d0063ca",
   "metadata": {},
   "outputs": [],
   "source": [
    "# Define the benchmark test function with timing\n",
    "def test_vulnerabilities_benchmark(python_code_path):\n",
    "    \"\"\"\n",
    "    Analyzes a Python file for security vulnerabilities\n",
    "\n",
    "    Args:\n",
    "        python_code_path (str): Path to the Python file to analyze\n",
    "\n",
    "    Returns:\n",
    "        tuple: (success, result, tool_name, scan_time)\n",
    "        - success (bool): True if analysis successful, False otherwise\n",
    "        - result (bool): True if vulnerable, False if safe\n",
    "        - tool_name (str): Name of the static tool used\n",
    "        - scan_time (float): Time taken for the scan in seconds\n",
    "    \"\"\"\n",
    "\n",
    "    # Start timing\n",
    "    start_time = time.time()\n",
    "\n",
    "    # Define the Bandit command\n",
    "    command = [\n",
    "        'bandit',\n",
    "        '-r', python_code_path,\n",
    "        '--format', 'json',\n",
    "        '-o', 'bandit_results.json',\n",
    "        '-ll', '-iii'\n",
    "    ]\n",
    "\n",
    "    # Run the Bandit command\n",
    "    try:\n",
    "        subprocess.run(command, check=True)\n",
    "        print(\"Bandit analysis completed successfully.\")\n",
    "    except subprocess.CalledProcessError as e:\n",
    "        print(f\"An error occurred while running Bandit: {e}\")\n",
    "        return False, None, \"Bandit\", time.time() - start_time\n",
    "\n",
    "\n",
    "    \n"
   ]
  }
 ],
 "metadata": {
  "kernelspec": {
   "display_name": ".venv",
   "language": "python",
   "name": "python3"
  },
  "language_info": {
   "codemirror_mode": {
    "name": "ipython",
    "version": 3
   },
   "file_extension": ".py",
   "mimetype": "text/x-python",
   "name": "python",
   "nbconvert_exporter": "python",
   "pygments_lexer": "ipython3",
   "version": "3.12.10"
  }
 },
 "nbformat": 4,
 "nbformat_minor": 5
}
