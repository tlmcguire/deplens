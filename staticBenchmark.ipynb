{
 "cells": [
  {
   "cell_type": "code",
   "execution_count": null,
   "id": "8f47f6af",
   "metadata": {},
   "outputs": [],
   "source": [
    "\"\"\"\n",
    "Static Security Bechmark\n",
    "This script is designed to measure the ability of static analysis tools to identify safe and unsafe code.\n",
    "\"\"\"\n",
    "\n",
    "import json\n",
    "import os\n",
    "import sys\n",
    "import re\n",
    "import time\n",
    "import pandas as pd\n",
    "from pathlib import Path"
   ]
  }
 ],
 "metadata": {
  "language_info": {
   "name": "python"
  }
 },
 "nbformat": 4,
 "nbformat_minor": 5
}
